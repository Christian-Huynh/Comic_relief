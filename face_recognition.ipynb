{
 "cells": [
  {
   "cell_type": "code",
   "execution_count": 117,
   "metadata": {},
   "outputs": [
    {
     "name": "stdout",
     "output_type": "stream",
     "text": [
      "nose_tip coordinates [(78, 124), (82, 125), (86, 126), (90, 125), (95, 123)]\n",
      "nose_bridge coordinates [(85, 94), (85, 103), (85, 111), (84, 120)]\n",
      "region(left,upper,right,lower) (73, 101, 100, 128)\n",
      "pic_size (27, 27)\n",
      "original nose pic size (396, 400)\n",
      "nose (27, 27)\n"
     ]
    }
   ],
   "source": [
    "from PIL import Image, ImageDraw\n",
    "import face_recognition\n",
    "import math, cv2, numpy as np\n",
    "\n",
    "# Load the jpg file into a numpy array\n",
    "# Choose a picture 'richard_curtis.jpg' 'rihanna.jpg' 'ryan_gosling.jpg' 'arnie.jpg' 'drake.jpg' 'kim_kardashian'\n",
    "image = face_recognition.load_image_file(\"richard_curtis.jpg\")\n",
    "# Choose a noise 'sniffer.png' 'sourcerer.png' 'teeth.png' 'viking.png' 'cook.png' 'djboogy.png' 'drnose.png' 'owl.png'\n",
    "nose_pic = Image.open('teeth.png', mode='r')\n",
    "\n",
    "# Find all facial features in all the faces in the image\n",
    "face_landmarks_list = face_recognition.face_landmarks(image)\n",
    "\n",
    "for face_landmarks in face_landmarks_list:\n",
    "    pil_image = Image.fromarray(image)\n",
    "    d = ImageDraw.Draw(pil_image, 'RGBA')\n",
    "\n",
    "print('nose_tip coordinates',face_landmarks['nose_tip'])\n",
    "print('nose_bridge coordinates',face_landmarks['nose_bridge'])\n",
    "\n",
    "# left part of the nose tip, adding -5 as the picture of the nose is smaller than picture size\n",
    "left = face_landmarks['nose_tip'][0][0] -5\n",
    "# right part of the nose tip, adding +5 as the picture of the nose is smaller than picture size\n",
    "right = face_landmarks['nose_tip'][4][0] +5\n",
    "# lower part of the nose bridge\n",
    "lower = face_landmarks['nose_tip'][2][1] +2\n",
    "# upper part of the nose bridge, based on lower ground as nose picture is a square\n",
    "upper = lower - (right-left)\n",
    "\n",
    "\n",
    "region = (left,upper,right,lower)\n",
    "print('region(left,upper,right,lower)', region)\n",
    "\n",
    "#resizing nose_pic to fit region size\n",
    "\n",
    "new_w = right-left\n",
    "new_h = new_w\n",
    "#new_h = lower-upper\n",
    "print(\"pic_size\",(new_w,new_h))\n",
    "\n",
    "print('original nose pic size', nose_pic.size)\n",
    "\n",
    "nose_pic = nose_pic.resize((new_w, new_h), Image.ANTIALIAS)\n",
    "test = nose_pic.size\n",
    "print('nose',test)\n",
    "\n",
    "# Paste nose to picture\n",
    "pil_image.paste(nose_pic, box=region,mask=nose_pic )\n",
    "\n",
    "pil_image.show()\n",
    "\n"
   ]
  },
  {
   "cell_type": "code",
   "execution_count": null,
   "metadata": {},
   "outputs": [],
   "source": []
  }
 ],
 "metadata": {
  "kernelspec": {
   "display_name": "Python 3",
   "language": "python",
   "name": "python3"
  },
  "language_info": {
   "codemirror_mode": {
    "name": "ipython",
    "version": 3
   },
   "file_extension": ".py",
   "mimetype": "text/x-python",
   "name": "python",
   "nbconvert_exporter": "python",
   "pygments_lexer": "ipython3",
   "version": "3.6.4"
  }
 },
 "nbformat": 4,
 "nbformat_minor": 2
}
